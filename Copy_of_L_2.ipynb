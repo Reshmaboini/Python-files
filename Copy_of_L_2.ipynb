{
  "cells": [
    {
      "cell_type": "markdown",
      "id": "44f888cb",
      "metadata": {
        "id": "44f888cb"
      },
      "source": [
        "<a href=\"https://www.viharatech.com\"><img src=\"https://miro.medium.com/v2/resize:fit:828/format:webp/1*on2Bpj6A5gfd-CzaFOAZRA.jpeg\"></a>\n",
        "\n",
        "\n",
        "- `Welcome to our interactive learning session! In this Jupyter notebook, you'll find a series of questions related to Python Concept. To maximize your learning, please write Python code in the cell below each question and execute it. This hands-on practice will help reinforce your understanding of the concepts. Feel free to reach out if you have any questions or need assistance. Happy coding! 💻🐍 `"
      ]
    },
    {
      "cell_type": "raw",
      "id": "144f8dd9",
      "metadata": {
        "id": "144f8dd9"
      },
      "source": [
        "\n",
        "1 . Print the input text without vowels\n",
        "\n",
        "input = 'hai'\n",
        "\n",
        "Expected output = h"
      ]
    },
    {
      "cell_type": "code",
      "execution_count": null,
      "id": "cf1f9ca7",
      "metadata": {
        "id": "cf1f9ca7",
        "colab": {
          "base_uri": "https://localhost:8080/"
        },
        "outputId": "a1adf8d1-c302-479b-9b01-eeba05a54dc3"
      },
      "outputs": [
        {
          "output_type": "stream",
          "name": "stdout",
          "text": [
            "h\n"
          ]
        }
      ],
      "source": [
        "a = 'hai'\n",
        "b=list(a)\n",
        "c=['a','e','i','o','u','A','E','I','O','U']\n",
        "for i in b:\n",
        "  if i not in c:\n",
        "    print(i)\n",
        "\n",
        "\n"
      ]
    },
    {
      "cell_type": "raw",
      "id": "9f0cbac6",
      "metadata": {
        "id": "9f0cbac6"
      },
      "source": [
        "2 . Print only vowels from the text\n",
        "\n",
        "input = data\n",
        "\n",
        "Expected output = aa"
      ]
    },
    {
      "cell_type": "code",
      "execution_count": null,
      "id": "a6c81c61",
      "metadata": {
        "id": "a6c81c61",
        "colab": {
          "base_uri": "https://localhost:8080/"
        },
        "outputId": "759148f0-7cf3-46d9-d942-c335140cdb41"
      },
      "outputs": [
        {
          "output_type": "stream",
          "name": "stdout",
          "text": [
            "a\n",
            "a\n",
            "oiaouaoaiauaeIaeaeuioaou"
          ]
        }
      ],
      "source": [
        "a = 'data'\n",
        "b = list(a)\n",
        "vowels=['a','e','i','o','u','A','E','I','O','U']\n",
        "for i in b:\n",
        "  if i in vowels:\n",
        "    print(i)\n",
        "\n",
        "\n",
        "text = 'Python is a popular programming language. It was created by Guido van Rossum'\n",
        "c=list(text)\n",
        "for i in c:\n",
        "  if i in vowels:\n",
        "    print(i,end=\"\")\n"
      ]
    },
    {
      "cell_type": "raw",
      "id": "6cbfe6e1",
      "metadata": {
        "id": "6cbfe6e1"
      },
      "source": [
        "3 . print each valu from the list with its index\n",
        "\n",
        "---\n",
        "\n",
        "\n",
        "\n",
        "\n",
        "input = [10,11,50,34]\n",
        "\n",
        "Expected output = [100 , 111 , 502 , 343]"
      ]
    },
    {
      "cell_type": "code",
      "execution_count": null,
      "id": "d92cb8a3",
      "metadata": {
        "id": "d92cb8a3",
        "colab": {
          "base_uri": "https://localhost:8080/"
        },
        "outputId": "2bad5612-6e69-46ca-d154-939135232c50"
      },
      "outputs": [
        {
          "output_type": "stream",
          "name": "stdout",
          "text": [
            "['100', '111', '502', '343']\n"
          ]
        }
      ],
      "source": [
        "a =[10,11,50,34]\n",
        "b =[]\n",
        "for i in range(0,len(a)):\n",
        "   b.append(f'{a[i]}{i}')\n",
        "\n",
        "print(b)"
      ]
    },
    {
      "cell_type": "raw",
      "id": "de670ddc",
      "metadata": {
        "id": "de670ddc"
      },
      "source": [
        "4 . This is a Python Program to print all integers that aren’t divisible by either 2 or 3 and lies between 1 and 50."
      ]
    },
    {
      "cell_type": "code",
      "execution_count": 1,
      "id": "bf365d80",
      "metadata": {
        "id": "bf365d80",
        "colab": {
          "base_uri": "https://localhost:8080/"
        },
        "outputId": "5bf6653d-60a2-43b1-9094-50d1741fe950"
      },
      "outputs": [
        {
          "output_type": "stream",
          "name": "stdout",
          "text": [
            "1 5 7 11 13 17 19 23 25 29 31 35 37 41 43 47 49 "
          ]
        }
      ],
      "source": [
        "for i in range(1,51):\n",
        "  if i%2!=0 and i%3!=0:\n",
        "    print(i,end=\" \")\n"
      ]
    },
    {
      "cell_type": "raw",
      "id": "9f9b54af",
      "metadata": {
        "id": "9f9b54af"
      },
      "source": [
        "5 . The program takes in an integer and prints the smallest divisor of the integer."
      ]
    },
    {
      "cell_type": "code",
      "execution_count": null,
      "id": "087e8e4b",
      "metadata": {
        "id": "087e8e4b",
        "colab": {
          "base_uri": "https://localhost:8080/"
        },
        "outputId": "91355420-3e80-4dfa-cace-0747718c3ef2"
      },
      "outputs": [
        {
          "output_type": "execute_result",
          "data": {
            "text/plain": [
              "7"
            ]
          },
          "metadata": {},
          "execution_count": 20
        }
      ],
      "source": [
        "def num(n):\n",
        "  for i in range(2,n+1):\n",
        "    if n%i ==0:\n",
        "      return i\n",
        "num(49)\n",
        "\n",
        "\n",
        "\n"
      ]
    },
    {
      "cell_type": "raw",
      "id": "fe7c7e96",
      "metadata": {
        "id": "fe7c7e96"
      },
      "source": [
        "6 . Write a Python program to check if it is a strong number or not ."
      ]
    },
    {
      "cell_type": "code",
      "execution_count": null,
      "id": "746703b2",
      "metadata": {
        "id": "746703b2",
        "colab": {
          "base_uri": "https://localhost:8080/"
        },
        "outputId": "3e735c82-c34b-4a2c-9f6c-35e684008f5a"
      },
      "outputs": [
        {
          "output_type": "stream",
          "name": "stdout",
          "text": [
            "it is not a strong number\n"
          ]
        }
      ],
      "source": [
        "def num(n):\n",
        "  temp =n\n",
        "  s=0\n",
        "  while n>0:\n",
        "    r=n%10\n",
        "    c=1\n",
        "    for i in range(1,r+1):\n",
        "      c=c*i\n",
        "    s=s+c\n",
        "    n=n//10\n",
        "  if temp ==s:\n",
        "      print('it is a strong number')\n",
        "  else:\n",
        "      print('it is not a strong number')\n",
        "num(120)\n",
        "\n"
      ]
    },
    {
      "cell_type": "raw",
      "id": "6fccfd65",
      "metadata": {
        "id": "6fccfd65"
      },
      "source": [
        "7 . Write a Python program that takes input from the user and displays that input back in upper and lower cases."
      ]
    },
    {
      "cell_type": "code",
      "execution_count": null,
      "id": "9c85b4a6",
      "metadata": {
        "id": "9c85b4a6",
        "colab": {
          "base_uri": "https://localhost:8080/"
        },
        "outputId": "6b79546f-7852-4d0c-debe-ea7f931fe134"
      },
      "outputs": [
        {
          "output_type": "stream",
          "name": "stdout",
          "text": [
            "Python Is A High_level Programming Language PYTHON IS A HIGH_LEVEL PROGRAMMING LANGUAGE\n",
            "python is a high_level programming language\n"
          ]
        }
      ],
      "source": [
        "a = 'python is a high_level programming language'\n",
        "b=a.split()\n",
        "for i in b:\n",
        "  print(i.capitalize(),end=' ')\n",
        "\n",
        "\n",
        "a = 'python is a high_level programming language'\n",
        "print(a.upper())\n",
        "a = 'python is a high_level programming language'\n",
        "print(a.lower())\n"
      ]
    },
    {
      "cell_type": "raw",
      "id": "8e92ebb5",
      "metadata": {
        "id": "8e92ebb5"
      },
      "source": [
        "8 . Write a Python program to remove spaces from a given string\n",
        "\n",
        "- input = united states\n",
        "- output = unitedstates"
      ]
    },
    {
      "cell_type": "code",
      "execution_count": null,
      "id": "5d8f2f1b",
      "metadata": {
        "id": "5d8f2f1b",
        "colab": {
          "base_uri": "https://localhost:8080/"
        },
        "outputId": "a0d2e7af-a546-4014-a8ce-eb5666231c46"
      },
      "outputs": [
        {
          "output_type": "stream",
          "name": "stdout",
          "text": [
            "Pythoncanbeusedonaservertocreatewebapplications.\n"
          ]
        }
      ],
      "source": [
        "a = 'Python can be used on a server to create web applications.'\n",
        "b=a.split()\n",
        "\n",
        "print(''.join(b))\n"
      ]
    },
    {
      "cell_type": "markdown",
      "source": [
        "or"
      ],
      "metadata": {
        "id": "HrOiWBW2bAUA"
      },
      "id": "HrOiWBW2bAUA"
    },
    {
      "cell_type": "code",
      "source": [
        "a ='Python can be used on a server to create web applications.'\n",
        "print(a.replace(' ',''))"
      ],
      "metadata": {
        "colab": {
          "base_uri": "https://localhost:8080/"
        },
        "id": "MXr_j-91Z_VK",
        "outputId": "2ed68dee-f273-400e-b72c-d3d15a0bcf1e"
      },
      "id": "MXr_j-91Z_VK",
      "execution_count": null,
      "outputs": [
        {
          "output_type": "stream",
          "name": "stdout",
          "text": [
            "Pythoncanbeusedonaservertocreatewebapplications.\n"
          ]
        }
      ]
    },
    {
      "cell_type": "raw",
      "id": "0b1bc8da",
      "metadata": {
        "id": "0b1bc8da"
      },
      "source": [
        "9 . Write a Python program to capitalize first and last letters of each word of a given string."
      ]
    },
    {
      "cell_type": "code",
      "execution_count": null,
      "id": "0642e4ef",
      "metadata": {
        "id": "0642e4ef"
      },
      "outputs": [],
      "source": [
        "\n"
      ]
    },
    {
      "cell_type": "raw",
      "id": "77b5cd36",
      "metadata": {
        "id": "77b5cd36"
      },
      "source": [
        "10 . write a python program to find length of a string but should not use len keyword"
      ]
    },
    {
      "cell_type": "code",
      "execution_count": null,
      "id": "4926f802",
      "metadata": {
        "id": "4926f802",
        "colab": {
          "base_uri": "https://localhost:8080/"
        },
        "outputId": "97cfdb9a-5592-427d-e86a-762a511186ce"
      },
      "outputs": [
        {
          "output_type": "stream",
          "name": "stdout",
          "text": [
            "15\n"
          ]
        }
      ],
      "source": [
        "a = 'I am from India'\n",
        "c=0\n",
        "for i in a:\n",
        "  c=c+1\n",
        "print(c)\n",
        "\n"
      ]
    }
  ],
  "metadata": {
    "kernelspec": {
      "display_name": "Python 3 (ipykernel)",
      "language": "python",
      "name": "python3"
    },
    "language_info": {
      "codemirror_mode": {
        "name": "ipython",
        "version": 3
      },
      "file_extension": ".py",
      "mimetype": "text/x-python",
      "name": "python",
      "nbconvert_exporter": "python",
      "pygments_lexer": "ipython3",
      "version": "3.11.5"
    },
    "colab": {
      "provenance": []
    }
  },
  "nbformat": 4,
  "nbformat_minor": 5
}